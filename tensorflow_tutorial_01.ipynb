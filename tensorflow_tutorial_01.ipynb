{
  "nbformat": 4,
  "nbformat_minor": 0,
  "metadata": {
    "colab": {
      "name": "tensorflow-tutorial-01.ipynb",
      "version": "0.3.2",
      "provenance": [],
      "collapsed_sections": [],
      "toc_visible": true
    },
    "kernelspec": {
      "name": "python3",
      "display_name": "Python 3"
    },
    "accelerator": "TPU"
  },
  "cells": [
    {
      "metadata": {
        "id": "eHJnlzs0RR8M",
        "colab_type": "text"
      },
      "cell_type": "markdown",
      "source": [
        "# Tensorflow Tutorial 01\n",
        "\n",
        "参考文献\n",
        "\n",
        "- [201_session.py](https://github.com/MorvanZhou/Tensorflow-Tutorial/blob/master/tutorial-contents/201_session.py)"
      ]
    },
    {
      "metadata": {
        "id": "KUdlos_2Rrbq",
        "colab_type": "code",
        "colab": {}
      },
      "cell_type": "code",
      "source": [
        "import tensorflow as tf"
      ],
      "execution_count": 0,
      "outputs": []
    },
    {
      "metadata": {
        "id": "PTV03F8tX7T5",
        "colab_type": "code",
        "colab": {
          "base_uri": "https://localhost:8080/",
          "height": 35
        },
        "outputId": "bd8f1ccc-7575-478c-fd21-07d0fc62226e"
      },
      "cell_type": "code",
      "source": [
        "tf.__version__"
      ],
      "execution_count": 3,
      "outputs": [
        {
          "output_type": "execute_result",
          "data": {
            "text/plain": [
              "'1.11.0'"
            ]
          },
          "metadata": {
            "tags": []
          },
          "execution_count": 3
        }
      ]
    },
    {
      "metadata": {
        "id": "NbRCCbg4RuYZ",
        "colab_type": "code",
        "colab": {
          "base_uri": "https://localhost:8080/",
          "height": 35
        },
        "outputId": "ad8ecb9a-098d-4046-bd61-0527df5aea1c"
      },
      "cell_type": "code",
      "source": [
        "# 1x2 * 2x1 => 1x1\n",
        "m1 = tf.constant([[2, 2]])\n",
        "m2 = tf.constant([[3],\n",
        "                 [3]])\n",
        "dot_operation = tf.matmul(m1, m2)\n",
        "\n",
        "print(dot_operation)"
      ],
      "execution_count": 4,
      "outputs": [
        {
          "output_type": "stream",
          "text": [
            "Tensor(\"MatMul:0\", shape=(1, 1), dtype=int32)\n"
          ],
          "name": "stdout"
        }
      ]
    },
    {
      "metadata": {
        "id": "WSRJyMlRSaZg",
        "colab_type": "code",
        "colab": {
          "base_uri": "https://localhost:8080/",
          "height": 35
        },
        "outputId": "da993be4-5e55-44d1-a3b1-6abef5e91c95"
      },
      "cell_type": "code",
      "source": [
        "# method1 use session\n",
        "sess = tf.Session()\n",
        "result = sess.run(dot_operation)\n",
        "print(result)"
      ],
      "execution_count": 5,
      "outputs": [
        {
          "output_type": "stream",
          "text": [
            "[[12]]\n"
          ],
          "name": "stdout"
        }
      ]
    },
    {
      "metadata": {
        "id": "MCa-56RLSleA",
        "colab_type": "code",
        "colab": {
          "base_uri": "https://localhost:8080/",
          "height": 35
        },
        "outputId": "88c4d952-0841-40f9-dfe3-98148f7358f9"
      },
      "cell_type": "code",
      "source": [
        "# method2 use session\n",
        "with tf.Session() as sess:\n",
        "  result_ = sess.run(dot_operation)\n",
        "  print(result_)"
      ],
      "execution_count": 6,
      "outputs": [
        {
          "output_type": "stream",
          "text": [
            "[[12]]\n"
          ],
          "name": "stdout"
        }
      ]
    }
  ]
}