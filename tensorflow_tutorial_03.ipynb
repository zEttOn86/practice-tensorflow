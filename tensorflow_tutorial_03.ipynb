{
  "nbformat": 4,
  "nbformat_minor": 0,
  "metadata": {
    "colab": {
      "name": "tensorflow_tutorial_03.ipynb",
      "version": "0.3.2",
      "provenance": [],
      "collapsed_sections": []
    },
    "kernelspec": {
      "name": "python3",
      "display_name": "Python 3"
    }
  },
  "cells": [
    {
      "metadata": {
        "id": "3OWQmMYzfvlG",
        "colab_type": "text"
      },
      "cell_type": "markdown",
      "source": [
        "# Tensorflow Tutorial 03\n",
        "\n",
        "参考文献\n",
        "\n",
        "- [203_variable.py](https://github.com/MorvanZhou/Tensorflow-Tutorial/blob/master/tutorial-contents/203_variable.py)\n",
        "\n",
        "- [TensorFlowの定数、変数、プレースホルダーの使い方](https://note.nkmk.me/python-tensorflow-constant-variable-placeholder/)"
      ]
    },
    {
      "metadata": {
        "id": "2o44da5RgHGk",
        "colab_type": "code",
        "colab": {}
      },
      "cell_type": "code",
      "source": [
        "import tensorflow as tf"
      ],
      "execution_count": 0,
      "outputs": []
    },
    {
      "metadata": {
        "id": "xubhU11EgI2s",
        "colab_type": "code",
        "colab": {}
      },
      "cell_type": "code",
      "source": [
        "var = tf.Variable(0)    # our first variable in the \"global_variable\" set"
      ],
      "execution_count": 0,
      "outputs": []
    },
    {
      "metadata": {
        "id": "wad1n-zOgQii",
        "colab_type": "code",
        "colab": {}
      },
      "cell_type": "code",
      "source": [
        "add_operation = tf.add(var, 1)"
      ],
      "execution_count": 0,
      "outputs": []
    },
    {
      "metadata": {
        "id": "02C_wAXCgXis",
        "colab_type": "text"
      },
      "cell_type": "markdown",
      "source": [
        "tf.assign()で新たな値を代入する。"
      ]
    },
    {
      "metadata": {
        "id": "DyRPMVXPgS5i",
        "colab_type": "code",
        "colab": {}
      },
      "cell_type": "code",
      "source": [
        "update_operation = tf.assign(var, add_operation)"
      ],
      "execution_count": 0,
      "outputs": []
    },
    {
      "metadata": {
        "id": "EkFbajmEg5Lg",
        "colab_type": "text"
      },
      "cell_type": "markdown",
      "source": [
        "変数はセッションのはじめに初期化する必要がある。すべての変数を初期化するglobal_variables_initializer()を実行する。\n",
        "\n",
        "セッション内では変数の値は保持されるため、オペレーションを複数回実行すると結果が更新されていく。"
      ]
    },
    {
      "metadata": {
        "id": "xciuA1g_gUxr",
        "colab_type": "code",
        "colab": {
          "base_uri": "https://localhost:8080/",
          "height": 72
        },
        "outputId": "27c95050-2904-4d7a-9158-00b5da870acb"
      },
      "cell_type": "code",
      "source": [
        "with tf.Session() as sess:\n",
        "  # once define variables, you have to initalize them by doing this\n",
        "  sess.run(tf.global_variables_initializer())\n",
        "  for _ in range(3):\n",
        "    sess.run(update_operation)\n",
        "    print(sess.run(var))"
      ],
      "execution_count": 5,
      "outputs": [
        {
          "output_type": "stream",
          "text": [
            "1\n",
            "2\n",
            "3\n"
          ],
          "name": "stdout"
        }
      ]
    }
  ]
}