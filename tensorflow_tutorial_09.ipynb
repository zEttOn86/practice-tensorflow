{
  "nbformat": 4,
  "nbformat_minor": 0,
  "metadata": {
    "colab": {
      "name": "tensorflow-tutorial-09.ipynb",
      "version": "0.3.2",
      "provenance": [],
      "collapsed_sections": [],
      "toc_visible": true
    },
    "kernelspec": {
      "name": "python3",
      "display_name": "Python 3"
    }
  },
  "cells": [
    {
      "metadata": {
        "id": "Nt20h5VFbRNZ",
        "colab_type": "text"
      },
      "cell_type": "markdown",
      "source": [
        "# Tensorflow Tutorial 09\n",
        "参考文献\n",
        "- [305_tensorboard.py](https://github.com/MorvanZhou/Tensorflow-Tutorial/blob/master/tutorial-contents/305_tensorboard.py)\n",
        "\n",
        "google colab上でtensorboardはきつそう"
      ]
    },
    {
      "metadata": {
        "id": "M5JbitYIboi6",
        "colab_type": "code",
        "colab": {}
      },
      "cell_type": "code",
      "source": [
        "import tensorflow as tf\n",
        "import numpy as np\n",
        "\n",
        "tf.set_random_seed(1)\n",
        "np.random.seed(1)"
      ],
      "execution_count": 0,
      "outputs": []
    },
    {
      "metadata": {
        "id": "UOlVhcn8bqWa",
        "colab_type": "code",
        "colab": {
          "base_uri": "https://localhost:8080/",
          "height": 347
        },
        "outputId": "d8422fde-77f7-4511-910f-778af8e59345"
      },
      "cell_type": "code",
      "source": [
        "# fake data\n",
        "x = np.linspace(-1, 1, 100)[:, np.newaxis]          # shape (100, 1)\n",
        "noise = np.random.normal(0, 0.1, size=x.shape)\n",
        "y = np.power(x, 2) + noise                          # shape (100, 1) + some noise\n",
        "\n",
        "import matplotlib.pyplot as plt\n",
        "plt.scatter(x,y)\n",
        "plt.show()"
      ],
      "execution_count": 2,
      "outputs": [
        {
          "output_type": "display_data",
          "data": {
            "image/png": "[encoded data removed]",
            "text/plain": [
              "<matplotlib.figure.Figure at 0x7f89c02b31d0>"
            ]
          },
          "metadata": {
            "tags": []
          }
        }
      ]
    },
    {
      "metadata": {
        "id": "vUCoFc87b1IZ",
        "colab_type": "code",
        "colab": {}
      },
      "cell_type": "code",
      "source": [
        "with tf.variable_scope('Inputs'):\n",
        "    tf_x = tf.placeholder(tf.float32, x.shape, name='x')\n",
        "    tf_y = tf.placeholder(tf.float32, y.shape, name='y')"
      ],
      "execution_count": 0,
      "outputs": []
    },
    {
      "metadata": {
        "id": "dwIHAaZKb3x5",
        "colab_type": "code",
        "colab": {}
      },
      "cell_type": "code",
      "source": [
        "with tf.variable_scope('Net'):\n",
        "    l1 = tf.layers.dense(tf_x, 10, tf.nn.relu, name='hidden_layer')\n",
        "    output = tf.layers.dense(l1, 1, name='output_layer')\n",
        "\n",
        "    # add to histogram summary\n",
        "    tf.summary.histogram('h_out', l1)\n",
        "    tf.summary.histogram('pred', output)"
      ],
      "execution_count": 0,
      "outputs": []
    },
    {
      "metadata": {
        "id": "bAYlhw17b5xJ",
        "colab_type": "code",
        "colab": {
          "base_uri": "https://localhost:8080/",
          "height": 35
        },
        "outputId": "54ae4ad2-0f20-4b87-90d9-8a91b01f85a1"
      },
      "cell_type": "code",
      "source": [
        "loss = tf.losses.mean_squared_error(tf_y, output, scope='loss')\n",
        "train_op = tf.train.GradientDescentOptimizer(learning_rate=0.5).minimize(loss)\n",
        "tf.summary.scalar('loss', loss)     # add loss to scalar summary"
      ],
      "execution_count": 5,
      "outputs": [
        {
          "output_type": "execute_result",
          "data": {
            "text/plain": [
              "<tf.Tensor 'loss_1:0' shape=() dtype=string>"
            ]
          },
          "metadata": {
            "tags": []
          },
          "execution_count": 5
        }
      ]
    },
    {
      "metadata": {
        "id": "3SJ7fnm5b9zA",
        "colab_type": "code",
        "colab": {}
      },
      "cell_type": "code",
      "source": [
        "sess = tf.Session()\n",
        "sess.run(tf.global_variables_initializer())"
      ],
      "execution_count": 0,
      "outputs": []
    },
    {
      "metadata": {
        "id": "j99_erUccAGQ",
        "colab_type": "code",
        "colab": {}
      },
      "cell_type": "code",
      "source": [
        "writer = tf.summary.FileWriter('./log', sess.graph)     # write to file\n",
        "merge_op = tf.summary.merge_all()                       # operation to merge all summary\n",
        "\n",
        "for step in range(100):\n",
        "    # train and net output\n",
        "    _, result = sess.run([train_op, merge_op], {tf_x: x, tf_y: y})\n",
        "    writer.add_summary(result, step)"
      ],
      "execution_count": 0,
      "outputs": []
    },
    {
      "metadata": {
        "id": "562Yf8JRcLYR",
        "colab_type": "code",
        "colab": {}
      },
      "cell_type": "code",
      "source": [
        ""
      ],
      "execution_count": 0,
      "outputs": []
    }
  ]
}