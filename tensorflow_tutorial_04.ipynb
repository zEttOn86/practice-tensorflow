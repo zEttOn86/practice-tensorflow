{
  "nbformat": 4,
  "nbformat_minor": 0,
  "metadata": {
    "colab": {
      "name": "tensorflow_tutorial_04.ipynb",
      "version": "0.3.2",
      "provenance": [],
      "collapsed_sections": []
    },
    "kernelspec": {
      "name": "python3",
      "display_name": "Python 3"
    }
  },
  "cells": [
    {
      "metadata": {
        "id": "-3mQ9t-7hdAu",
        "colab_type": "text"
      },
      "cell_type": "markdown",
      "source": [
        "# Tensorflow Tutorial 04\n",
        "\n",
        "参考文献\n",
        "\n",
        "- [204_activation.py](https://github.com/MorvanZhou/Tensorflow-Tutorial/tree/master/tutorial-contents)\n",
        "\n",
        "- [\n",
        "tf.nn.relu](https://www.tensorflow.org/api_docs/python/tf/nn/relu)"
      ]
    },
    {
      "metadata": {
        "id": "g2BULRGHh_2-",
        "colab_type": "code",
        "colab": {}
      },
      "cell_type": "code",
      "source": [
        "import tensorflow as tf\n",
        "import numpy as np\n",
        "import matplotlib.pyplot as plt"
      ],
      "execution_count": 0,
      "outputs": []
    },
    {
      "metadata": {
        "id": "LdzT7kXMiK9m",
        "colab_type": "code",
        "colab": {
          "base_uri": "https://localhost:8080/",
          "height": 745
        },
        "outputId": "c4a21379-887b-43b8-9f2c-3e6ad4e150fb"
      },
      "cell_type": "code",
      "source": [
        "# Fake data\n",
        "x = np.linspace(-5, 5, 200) # x data, shape=(100, 1)\n",
        "display(x)"
      ],
      "execution_count": 3,
      "outputs": [
        {
          "output_type": "display_data",
          "data": {
            "text/plain": [
              "array([-5.        , -4.94974874, -4.89949749, -4.84924623, -4.79899497,\n",
              "       -4.74874372, -4.69849246, -4.64824121, -4.59798995, -4.54773869,\n",
              "       -4.49748744, -4.44723618, -4.39698492, -4.34673367, -4.29648241,\n",
              "       -4.24623116, -4.1959799 , -4.14572864, -4.09547739, -4.04522613,\n",
              "       -3.99497487, -3.94472362, -3.89447236, -3.84422111, -3.79396985,\n",
              "       -3.74371859, -3.69346734, -3.64321608, -3.59296482, -3.54271357,\n",
              "       -3.49246231, -3.44221106, -3.3919598 , -3.34170854, -3.29145729,\n",
              "       -3.24120603, -3.19095477, -3.14070352, -3.09045226, -3.04020101,\n",
              "       -2.98994975, -2.93969849, -2.88944724, -2.83919598, -2.78894472,\n",
              "       -2.73869347, -2.68844221, -2.63819095, -2.5879397 , -2.53768844,\n",
              "       -2.48743719, -2.43718593, -2.38693467, -2.33668342, -2.28643216,\n",
              "       -2.2361809 , -2.18592965, -2.13567839, -2.08542714, -2.03517588,\n",
              "       -1.98492462, -1.93467337, -1.88442211, -1.83417085, -1.7839196 ,\n",
              "       -1.73366834, -1.68341709, -1.63316583, -1.58291457, -1.53266332,\n",
              "       -1.48241206, -1.4321608 , -1.38190955, -1.33165829, -1.28140704,\n",
              "       -1.23115578, -1.18090452, -1.13065327, -1.08040201, -1.03015075,\n",
              "       -0.9798995 , -0.92964824, -0.87939698, -0.82914573, -0.77889447,\n",
              "       -0.72864322, -0.67839196, -0.6281407 , -0.57788945, -0.52763819,\n",
              "       -0.47738693, -0.42713568, -0.37688442, -0.32663317, -0.27638191,\n",
              "       -0.22613065, -0.1758794 , -0.12562814, -0.07537688, -0.02512563,\n",
              "        0.02512563,  0.07537688,  0.12562814,  0.1758794 ,  0.22613065,\n",
              "        0.27638191,  0.32663317,  0.37688442,  0.42713568,  0.47738693,\n",
              "        0.52763819,  0.57788945,  0.6281407 ,  0.67839196,  0.72864322,\n",
              "        0.77889447,  0.82914573,  0.87939698,  0.92964824,  0.9798995 ,\n",
              "        1.03015075,  1.08040201,  1.13065327,  1.18090452,  1.23115578,\n",
              "        1.28140704,  1.33165829,  1.38190955,  1.4321608 ,  1.48241206,\n",
              "        1.53266332,  1.58291457,  1.63316583,  1.68341709,  1.73366834,\n",
              "        1.7839196 ,  1.83417085,  1.88442211,  1.93467337,  1.98492462,\n",
              "        2.03517588,  2.08542714,  2.13567839,  2.18592965,  2.2361809 ,\n",
              "        2.28643216,  2.33668342,  2.38693467,  2.43718593,  2.48743719,\n",
              "        2.53768844,  2.5879397 ,  2.63819095,  2.68844221,  2.73869347,\n",
              "        2.78894472,  2.83919598,  2.88944724,  2.93969849,  2.98994975,\n",
              "        3.04020101,  3.09045226,  3.14070352,  3.19095477,  3.24120603,\n",
              "        3.29145729,  3.34170854,  3.3919598 ,  3.44221106,  3.49246231,\n",
              "        3.54271357,  3.59296482,  3.64321608,  3.69346734,  3.74371859,\n",
              "        3.79396985,  3.84422111,  3.89447236,  3.94472362,  3.99497487,\n",
              "        4.04522613,  4.09547739,  4.14572864,  4.1959799 ,  4.24623116,\n",
              "        4.29648241,  4.34673367,  4.39698492,  4.44723618,  4.49748744,\n",
              "        4.54773869,  4.59798995,  4.64824121,  4.69849246,  4.74874372,\n",
              "        4.79899497,  4.84924623,  4.89949749,  4.94974874,  5.        ])"
            ]
          },
          "metadata": {
            "tags": []
          }
        }
      ]
    },
    {
      "metadata": {
        "id": "5Ubfjw8JiVDd",
        "colab_type": "code",
        "colab": {}
      },
      "cell_type": "code",
      "source": [
        "# following are popular activation functions\n",
        "y_relu = tf.nn.relu(x)\n",
        "y_sigmoid = tf.nn.sigmoid(x)\n",
        "y_tanh = tf.nn.tanh(x)\n",
        "y_softplus = tf.nn.softplus(x)"
      ],
      "execution_count": 0,
      "outputs": []
    },
    {
      "metadata": {
        "id": "n-69X_66i9Vs",
        "colab_type": "code",
        "colab": {}
      },
      "cell_type": "code",
      "source": [
        "# Calc\n",
        "sess = tf.Session()\n",
        "y_relu, y_sigmoid, y_tanh, y_softplus = sess.run([y_relu, y_sigmoid, y_tanh, y_softplus])"
      ],
      "execution_count": 0,
      "outputs": []
    },
    {
      "metadata": {
        "id": "2dfHLNe9jKaT",
        "colab_type": "code",
        "colab": {
          "base_uri": "https://localhost:8080/",
          "height": 378
        },
        "outputId": "ef7b01ad-18a3-4af4-f735-2f3255d684b1"
      },
      "cell_type": "code",
      "source": [
        "# plt to visualize these activation function\n",
        "plt.figure(1, figsize=(8, 6))\n",
        "plt.subplot(221)\n",
        "plt.plot(x, y_relu, c='red', label='relu')\n",
        "plt.ylim((-1, 5))\n",
        "plt.legend(loc='best')\n",
        "\n",
        "plt.subplot(222)\n",
        "plt.plot(x, y_sigmoid, c='red', label='sigmoid')\n",
        "plt.ylim((-0.2, 1.2))\n",
        "plt.legend(loc='best')\n",
        "\n",
        "plt.subplot(223)\n",
        "plt.plot(x, y_tanh, c='red', label='tanh')\n",
        "plt.ylim((-1.2, 1.2))\n",
        "plt.legend(loc='best')\n",
        "\n",
        "plt.subplot(224)\n",
        "plt.plot(x, y_softplus, c='red', label='softplus')\n",
        "plt.ylim((-0.2, 6))\n",
        "plt.legend(loc='best')\n",
        "\n",
        "plt.show()"
      ],
      "execution_count": 6,
      "outputs": [
        {
          "output_type": "display_data",
          "data": {
            "image/png": "[encoded data removed]",
            "text/plain": [
              "<matplotlib.figure.Figure at 0x7f8078bd7358>"
            ]
          },
          "metadata": {
            "tags": []
          }
        }
      ]
    },
    {
      "metadata": {
        "id": "9o3oQzE7jQyi",
        "colab_type": "code",
        "colab": {}
      },
      "cell_type": "code",
      "source": [
        ""
      ],
      "execution_count": 0,
      "outputs": []
    }
  ]
}