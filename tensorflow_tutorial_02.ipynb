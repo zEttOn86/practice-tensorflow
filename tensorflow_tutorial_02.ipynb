{
  "nbformat": 4,
  "nbformat_minor": 0,
  "metadata": {
    "colab": {
      "name": "tensorflow_tutorial_02.ipynb",
      "version": "0.3.2",
      "provenance": [],
      "collapsed_sections": []
    },
    "kernelspec": {
      "name": "python3",
      "display_name": "Python 3"
    }
  },
  "cells": [
    {
      "metadata": {
        "id": "wwtDaRZVc6fl",
        "colab_type": "text"
      },
      "cell_type": "markdown",
      "source": [
        "# Tensorflow Tutorial 02\n",
        "\n",
        "参考文献\n",
        "\n",
        "- [202_placeholder.py](https://github.com/MorvanZhou/Tensorflow-Tutorial/blob/master/tutorial-contents/202_placeholder.py)"
      ]
    },
    {
      "metadata": {
        "id": "JZ1TZHTMdPEa",
        "colab_type": "code",
        "colab": {}
      },
      "cell_type": "code",
      "source": [
        "import tensorflow as tf"
      ],
      "execution_count": 0,
      "outputs": []
    },
    {
      "metadata": {
        "id": "teonuvgmdqc5",
        "colab_type": "text"
      },
      "cell_type": "markdown",
      "source": [
        "プレースホルダーはデータが格納される入れ物。データは未定のままグラフを構築し、具体的な値は実行する時に与える。"
      ]
    },
    {
      "metadata": {
        "id": "0OMt5BRddRXK",
        "colab_type": "code",
        "colab": {}
      },
      "cell_type": "code",
      "source": [
        "x1 = tf.placeholder(dtype=tf.float32, shape=None)\n",
        "y1 = tf.placeholder(dtype=tf.float32, shape=None)\n",
        "z1 = x1 + y1"
      ],
      "execution_count": 0,
      "outputs": []
    },
    {
      "metadata": {
        "id": "hpIkpRzBdikc",
        "colab_type": "code",
        "colab": {}
      },
      "cell_type": "code",
      "source": [
        "x2 = tf.placeholder(dtype=tf.float32, shape=None)\n",
        "y2 = tf.placeholder(dtype=tf.float32, shape=None)\n",
        "z2 = x2 + y2"
      ],
      "execution_count": 0,
      "outputs": []
    },
    {
      "metadata": {
        "id": "OaWCGlS3feGd",
        "colab_type": "text"
      },
      "cell_type": "markdown",
      "source": [
        "値は、Session.run()の引数feed_dictに辞書型で指定する。"
      ]
    },
    {
      "metadata": {
        "id": "XdelHeIhd2Ch",
        "colab_type": "code",
        "colab": {
          "base_uri": "https://localhost:8080/",
          "height": 108
        },
        "outputId": "f6d8f0aa-1c59-4b35-fdfa-051a54f8f034"
      },
      "cell_type": "code",
      "source": [
        "with tf.Session() as sess:\n",
        "  # when only one operation to run\n",
        "  z1_value = sess.run(z1, feed_dict={x1: 1, y1: 2})\n",
        "  \n",
        "  # When run multiple operations\n",
        "  z1_value, z2_value = sess.run([z1, z2], # run them together\n",
        "                               feed_dict ={x1: 1, y1:2, \n",
        "                                           x2: [[4], [2]], y2:[[3, 3]]})\n",
        "  print(z1_value)\n",
        "  print(z2_value)\n",
        "  display(len([[4], [2]]))\n",
        "  display(len([[3, 3]]))  "
      ],
      "execution_count": 12,
      "outputs": [
        {
          "output_type": "stream",
          "text": [
            "3.0\n",
            "[[7. 7.]\n",
            " [5. 5.]]\n"
          ],
          "name": "stdout"
        },
        {
          "output_type": "display_data",
          "data": {
            "text/plain": [
              "2"
            ]
          },
          "metadata": {
            "tags": []
          }
        },
        {
          "output_type": "display_data",
          "data": {
            "text/plain": [
              "1"
            ]
          },
          "metadata": {
            "tags": []
          }
        }
      ]
    },
    {
      "metadata": {
        "id": "Pt1T4ANJesGg",
        "colab_type": "code",
        "colab": {}
      },
      "cell_type": "code",
      "source": [
        ""
      ],
      "execution_count": 0,
      "outputs": []
    }
  ]
}